{
 "metadata": {
  "name": "",
  "signature": "sha256:6bd15408ae8a7da975dbac3d1b4905b6cde868098cd0fc06099c5bd522c9458c"
 },
 "nbformat": 3,
 "nbformat_minor": 0,
 "worksheets": [
  {
   "cells": [
    {
     "cell_type": "code",
     "collapsed": false,
     "input": [
      "%pylab inline\n",
      "from __future__ import division"
     ],
     "language": "python",
     "metadata": {},
     "outputs": [
      {
       "output_type": "stream",
       "stream": "stdout",
       "text": [
        "Populating the interactive namespace from numpy and matplotlib\n"
       ]
      }
     ],
     "prompt_number": 2
    },
    {
     "cell_type": "code",
     "collapsed": false,
     "input": [
      "#radio de la esfera a escapar\n",
      "r = 100\n",
      "#numero de fotones a analizar\n",
      "n = 100\n",
      "#variable de iteraci\u00f3n de los fotones\n",
      "p = 0\n",
      "#guarda el numero de pasos requerido por cada foton para salir del sol\n",
      "d = np.zeros(n)\n",
      "for p in range(n):\n",
      "    #guarda la posici\u00f3n actual de un foton\n",
      "    actual = np.zeros(3)\n",
      "    #contador del numero de pasos\n",
      "    npasos = 0\n",
      "    #iteraci\u00f3n hasta salir del sol\n",
      "    while np.sqrt(actual[0]**2 + actual[1]**2 + actual[2]**2) < r:\n",
      "        #vector aleatorio\n",
      "        x = 1 - 2*np.random.random(3)\n",
      "        #normalizacion del vector\n",
      "        x = x/np.sqrt(x[0]**2 + x[1]**2 + x[2]**2)\n",
      "        #actualiza el vector posicion y el numero de pasos\n",
      "        actual += x\n",
      "        npasos += 1\n",
      "    #guarda el numero de pasos requerido por el foton\n",
      "    d[p] = npasos"
     ],
     "language": "python",
     "metadata": {},
     "outputs": [],
     "prompt_number": 3
    },
    {
     "cell_type": "code",
     "collapsed": false,
     "input": [
      "print d"
     ],
     "language": "python",
     "metadata": {},
     "outputs": [
      {
       "output_type": "stream",
       "stream": "stdout",
       "text": [
        "[ 11458.   6148.   5381.  12078.  17625.  16660.   5544.   7366.   9002.\n",
        "   8455.  12229.   4485.   2441.   5530.  18693.  36866.  29219.  10480.\n",
        "   4928.   7787.   6968.   6317.  12379.   3119.   3700.  16127.  14927.\n",
        "  12523.  21724.  10980.   3312.   4389.  12175.  10363.  13639.   3882.\n",
        "   4193.   9126.   7235.   7414.   7523.  12337.   6609.  11537.   5900.\n",
        "  17785.  10675.   8460.   3700.  11188.   6009.  13898.  15289.  18373.\n",
        "  11248.  13770.   3077.  21711.   5518.  12460.   8662.   5511.   7229.\n",
        "   6580.  15234.   8955.   6338.   6700.  17563.   3741.   5506.   4101.\n",
        "  11767.  13391.   2557.  20952.   3988.  27244.   8070.   5198.   4352.\n",
        "  10274.  12489.   4932.  16915.   2483.   3053.   5199.   7918.   6302.\n",
        "  13036.   7571.   3028.  14108.  14271.   8207.   6245.  14799.   9435.\n",
        "   5508.]\n"
       ]
      }
     ],
     "prompt_number": 4
    },
    {
     "cell_type": "code",
     "collapsed": false,
     "input": [],
     "language": "python",
     "metadata": {},
     "outputs": []
    }
   ],
   "metadata": {}
  }
 ]
}