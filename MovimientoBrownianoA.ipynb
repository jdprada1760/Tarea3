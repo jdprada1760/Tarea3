{
 "metadata": {
  "name": "",
  "signature": "sha256:cbfadc11e50f66fa7de68ac719c6db709d559693d65bf6fc789f35aa57b13209"
 },
 "nbformat": 3,
 "nbformat_minor": 0,
 "worksheets": [
  {
   "cells": [
    {
     "cell_type": "code",
     "collapsed": false,
     "input": [
      "%pylab inline\n",
      "from __future__ import division"
     ],
     "language": "python",
     "metadata": {},
     "outputs": [
      {
       "output_type": "stream",
       "stream": "stdout",
       "text": [
        "Populating the interactive namespace from numpy and matplotlib\n"
       ]
      }
     ],
     "prompt_number": 1
    },
    {
     "cell_type": "code",
     "collapsed": false,
     "input": [
      "#numero de iteraciones\n",
      "n = 100000000\n",
      "#guarda la distancia de la particula en funcion de n\n",
      "d = np.zeros(n+1)\n",
      "actual = np.zeros(3)\n",
      "for i in range(1, n+1):\n",
      "    #vector aleatorio\n",
      "    x = 1 - 2*np.random.random(1)\n",
      "    y = 1 - 2*np.random.random(1)\n",
      "    z = 1 - 2*np.random.random(1)\n",
      "    #norma del vector\n",
      "    a = np.sqrt(x**2 + y**2 + z**2)\n",
      "    #normalizacion del vector\n",
      "    x = x/a\n",
      "    y = y/a\n",
      "    z = z/a\n",
      "    #actualiza el vector posicion\n",
      "    actual[0] += x\n",
      "    actual[1] += y\n",
      "    actual[2] += z\n",
      "    #guarda la distancia actual del origen\n",
      "    d[i] = np.sqrt(actual[0]**2 + actual[1]**2 + actual[2]**2)\n",
      "\n",
      "plot(d)\n"
     ],
     "language": "python",
     "metadata": {},
     "outputs": []
    },
    {
     "cell_type": "code",
     "collapsed": false,
     "input": [
      "\n"
     ],
     "language": "python",
     "metadata": {},
     "outputs": [],
     "prompt_number": 36
    },
    {
     "cell_type": "code",
     "collapsed": false,
     "input": [],
     "language": "python",
     "metadata": {},
     "outputs": [],
     "prompt_number": 61
    },
    {
     "cell_type": "code",
     "collapsed": false,
     "input": [],
     "language": "python",
     "metadata": {},
     "outputs": []
    }
   ],
   "metadata": {}
  }
 ]
}