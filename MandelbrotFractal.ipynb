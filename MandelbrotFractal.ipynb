{
 "metadata": {
  "name": "",
  "signature": "sha256:0e56fec90b5dafb58a276bfccb4601c5eed8c3dae36bd44f7cf87bb84356f1d3"
 },
 "nbformat": 3,
 "nbformat_minor": 0,
 "worksheets": [
  {
   "cells": [
    {
     "cell_type": "code",
     "collapsed": false,
     "input": [
      "%pylab\n",
      "from __future__ import division"
     ],
     "language": "python",
     "metadata": {},
     "outputs": [
      {
       "output_type": "stream",
       "stream": "stdout",
       "text": [
        "Using matplotlib backend: TkAgg\n",
        "Populating the interactive namespace from numpy and matplotlib\n"
       ]
      }
     ],
     "prompt_number": 1
    },
    {
     "cell_type": "code",
     "collapsed": false,
     "input": [
      "#numero de iteraciones\n",
      "k = 10\n",
      "#tama\u00f1o de la matriz\n",
      "tam = 1024\n",
      "#crea la matriz\n",
      "x = 0\n",
      "a = [[1 for x in range(tam)] for x in xrange(tam)]"
     ],
     "language": "python",
     "metadata": {},
     "outputs": [],
     "prompt_number": 4
    },
    {
     "cell_type": "code",
     "collapsed": false,
     "input": [
      "#variables de iteracion\n",
      "x = 0\n",
      "y = 0\n",
      "for x in range(tam):\n",
      "    \n",
      "    for y in range(tam):\n",
      "        #variable compleja de iteracion de la matriz\n",
      "        z = complex(0,0)\n",
      "        c = complex((3*x/tam - 2), (2*y/tam - 1))\n",
      "        #iteracion\n",
      "        n = 0 \n",
      "        for n in range(tam) :\n",
      "            #iteracion de la sucesion\n",
      "            if abs(z) <= 4:\n",
      "                z = z**2 + c\n",
      "            #verificacion de convergencia\n",
      "            else:\n",
      "                #fin de la iteracion\n",
      "                n = tam + 1\n",
      "                \n",
      "        #verificacion de convergencia       \n",
      "        if abs(z) > 4:\n",
      "            a[y][x] = 0\n",
      "\n"
     ],
     "language": "python",
     "metadata": {},
     "outputs": [],
     "prompt_number": 6
    },
    {
     "cell_type": "code",
     "collapsed": false,
     "input": [
      "fig = plt.figure()\n",
      "ax = plt.axes()\n",
      "ax.set_title(\"Mandelbrot Fractal\")\n",
      "\n",
      "plt.imshow(a, cmap=\"bone\")\n",
      "\n",
      "plt.show()\n"
     ],
     "language": "python",
     "metadata": {},
     "outputs": [
      {
       "ename": "NameError",
       "evalue": "name 'a' is not defined",
       "output_type": "pyerr",
       "traceback": [
        "\u001b[1;31m---------------------------------------------------------------------------\u001b[0m\n\u001b[1;31mNameError\u001b[0m                                 Traceback (most recent call last)",
        "\u001b[1;32m<ipython-input-2-7dea2ebf68a8>\u001b[0m in \u001b[0;36m<module>\u001b[1;34m()\u001b[0m\n\u001b[0;32m      3\u001b[0m \u001b[0max\u001b[0m\u001b[1;33m.\u001b[0m\u001b[0mset_title\u001b[0m\u001b[1;33m(\u001b[0m\u001b[1;34m\"Mandelbrot Fractal\"\u001b[0m\u001b[1;33m)\u001b[0m\u001b[1;33m\u001b[0m\u001b[0m\n\u001b[0;32m      4\u001b[0m \u001b[1;33m\u001b[0m\u001b[0m\n\u001b[1;32m----> 5\u001b[1;33m \u001b[0mplt\u001b[0m\u001b[1;33m.\u001b[0m\u001b[0mimshow\u001b[0m\u001b[1;33m(\u001b[0m\u001b[0ma\u001b[0m\u001b[1;33m,\u001b[0m \u001b[0mcmap\u001b[0m\u001b[1;33m=\u001b[0m\u001b[1;34m\"bone\"\u001b[0m\u001b[1;33m)\u001b[0m\u001b[1;33m\u001b[0m\u001b[0m\n\u001b[0m\u001b[0;32m      6\u001b[0m \u001b[1;33m\u001b[0m\u001b[0m\n\u001b[0;32m      7\u001b[0m \u001b[0mplt\u001b[0m\u001b[1;33m.\u001b[0m\u001b[0mshow\u001b[0m\u001b[1;33m(\u001b[0m\u001b[1;33m)\u001b[0m\u001b[1;33m\u001b[0m\u001b[0m\n",
        "\u001b[1;31mNameError\u001b[0m: name 'a' is not defined"
       ]
      }
     ],
     "prompt_number": 2
    },
    {
     "cell_type": "code",
     "collapsed": false,
     "input": [],
     "language": "python",
     "metadata": {},
     "outputs": []
    }
   ],
   "metadata": {}
  }
 ]
}