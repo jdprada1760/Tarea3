{
 "metadata": {
  "name": "",
  "signature": "sha256:2b94c75b7c4328f2456723bb0cfd1ed92fed979a1a80fd6052f1c79013b3743f"
 },
 "nbformat": 3,
 "nbformat_minor": 0,
 "worksheets": [
  {
   "cells": [
    {
     "cell_type": "code",
     "collapsed": false,
     "input": [
      "%pylab\n",
      "from __future__ import division"
     ],
     "language": "python",
     "metadata": {},
     "outputs": [
      {
       "output_type": "stream",
       "stream": "stdout",
       "text": [
        "Using matplotlib backend: TkAgg\n",
        "Populating the interactive namespace from numpy and matplotlib\n"
       ]
      }
     ],
     "prompt_number": 1
    },
    {
     "cell_type": "code",
     "collapsed": false,
     "input": [
      "#numero de iteraciones\n",
      "k = 100\n",
      "#tama\u00f1o de la matriz\n",
      "tam = 1024\n",
      "#crea la matriz\n",
      "x = y = 0\n",
      "a = np.zeros((tam, tam))\n",
      "Re = np.array([[ (-2 + 3*x/tam) for x in range(tam)] for y in range(tam)])\n",
      "x = y = 0\n",
      "Im = np.array([[ (-1 + 2*y/tam) for x in range(tam)] for y in range(tam)])"
     ],
     "language": "python",
     "metadata": {},
     "outputs": [],
     "prompt_number": 2
    },
    {
     "cell_type": "code",
     "collapsed": false,
     "input": [
      "x = 1\n",
      "c = Re + 1j*Im\n",
      "zn = Re + 1j*Im\n",
      "for x in range(k):\n",
      "    \n",
      "    conv = ( abs(zn) <= 2 )\n",
      "    zn[conv] = zn[conv]**2 + c[conv]\n",
      "    a[conv] += 1"
     ],
     "language": "python",
     "metadata": {},
     "outputs": [],
     "prompt_number": 3
    },
    {
     "cell_type": "code",
     "collapsed": false,
     "input": [
      "b = 1-a\n",
      "fig = plt.figure()\n",
      "ax = plt.axes()\n",
      "ax.set_title(\"Mandelbrot Fractal\")\n",
      "imshow(a, cmap=cm.Blues,\n",
      "           extent=(-2, 1, -1, 1))\n",
      "plt.show()\n",
      "fig1 = plt.figure()\n",
      "ax1 = plt.axes()\n",
      "ax1.set_title(\"Mandelbrot Fractal\")\n",
      "imshow( 1-a, cmap=cm.Spectral,\n",
      "           extent=(-2, 1, -1, 1))\n",
      "plt.show()\n",
      "\n"
     ],
     "language": "python",
     "metadata": {},
     "outputs": [],
     "prompt_number": 4
    },
    {
     "cell_type": "code",
     "collapsed": false,
     "input": [],
     "language": "python",
     "metadata": {},
     "outputs": []
    }
   ],
   "metadata": {}
  }
 ]
}