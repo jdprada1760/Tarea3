{
 "metadata": {
  "name": "",
  "signature": "sha256:d3a7f184b63496e7ce3c1e3e4b49e0770c09072c3863eba0e0ab4c761d57c8fb"
 },
 "nbformat": 3,
 "nbformat_minor": 0,
 "worksheets": [
  {
   "cells": [
    {
     "cell_type": "code",
     "collapsed": false,
     "input": [
      "%pylab inline\n",
      "from __future__ import division"
     ],
     "language": "python",
     "metadata": {},
     "outputs": [
      {
       "output_type": "stream",
       "stream": "stdout",
       "text": [
        "Populating the interactive namespace from numpy and matplotlib\n"
       ]
      }
     ],
     "prompt_number": 42
    },
    {
     "cell_type": "code",
     "collapsed": false,
     "input": [
      "#numero de iteraciones\n",
      "k = 100\n",
      "#resolucion\n",
      "tam = 1024\n",
      "#matriz que guarda el conjunto de mandelbrot, y la velocidad de convergencia del resto de puntos\n",
      "a = np.zeros((tam, tam))\n",
      "x = y = 0\n",
      "#intervalo del eje real distribuido uniformemente en del intervalo (-2, 1)  de acuardo a la resolucion\n",
      "Re = np.array([[ (-2 + 3*x/tam) for x in range(tam)] for y in range(tam)])\n",
      "#intervalo del eje imaginario distribuido uniformemente en el intervalo (-1, 1) de acuerdo a la resolucion\n",
      "x = y = 0\n",
      "Im = np.array([[ (-1 + 2*y/tam) for x in range(tam)] for y in range(tam)])"
     ],
     "language": "python",
     "metadata": {},
     "outputs": [],
     "prompt_number": 3
    },
    {
     "cell_type": "code",
     "collapsed": false,
     "input": [
      "x = 1\n",
      "#matriz del plano complejo\n",
      "c = Re + 1j*Im\n",
      "#matriz de la sucesi\u00f3n de mandelbrot, empieza en z1 = c, n = 1\n",
      "zn = Re + 1j*Im\n",
      "#iteraci\u00f3n que calcula los siguientes terminos de la sucesion para los c que no divergen\n",
      "for x in range(k):\n",
      "    #indices de los c que no divergen\n",
      "    conv = where( abs(zn) <= 2 )\n",
      "    #siguiente termino de la sucesion\n",
      "    zn[conv] = zn[conv]**2 + c[conv]\n",
      "    #guarda la velocidad de divergencia, o si converge\n",
      "    a[conv] += 1\n",
      "\n",
      "    "
     ],
     "language": "python",
     "metadata": {},
     "outputs": [],
     "prompt_number": 11
    },
    {
     "cell_type": "code",
     "collapsed": false,
     "input": [
      "#grafica\n",
      "plt.show()\n",
      "fig1 = plt.figure()\n",
      "ax1 = plt.axes()\n",
      "ax1.set_title(\"Mandelbrot Fractal\")\n",
      "imshow( a , cmap=cm.gist_stern)\n",
      "plt.show()\n",
      "\n",
      "plt.show()\n",
      "fig1 = plt.figure()\n",
      "ax1 = plt.axes()\n",
      "ax1.set_title(\"Mandelbrot Fractal\")\n",
      "imshow(1- a , cmap=cm.gist_)\n",
      "plt.show()\n",
      "\n"
     ],
     "language": "python",
     "metadata": {},
     "outputs": [],
     "prompt_number": 41
    },
    {
     "cell_type": "code",
     "collapsed": false,
     "input": [],
     "language": "python",
     "metadata": {},
     "outputs": []
    }
   ],
   "metadata": {}
  }
 ]
}