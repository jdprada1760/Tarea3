{
 "metadata": {
  "name": "",
  "signature": "sha256:4a1b524880133a50e283b3f2b1376e935e0e5ac27e48c0a15ae70acbbbb224e8"
 },
 "nbformat": 3,
 "nbformat_minor": 0,
 "worksheets": [
  {
   "cells": [
    {
     "cell_type": "code",
     "collapsed": false,
     "input": [
      "%pylab inline\n",
      "from __future__ import division"
     ],
     "language": "python",
     "metadata": {},
     "outputs": [
      {
       "output_type": "stream",
       "stream": "stdout",
       "text": [
        "Populating the interactive namespace from numpy and matplotlib\n"
       ]
      }
     ],
     "prompt_number": 2
    },
    {
     "cell_type": "code",
     "collapsed": false,
     "input": [
      "#variables geogr\u00e1ficas\n",
      "latitud1 = 10.0*np.pi/180\n",
      "longitud1 = -144.0*np.pi/180\n",
      "latitud2 = -5.0*np.pi/180\n",
      "longitud2 = 20.0*np.pi/180\n",
      "#variables esfericas\n",
      "polar1 = np.pi/2-latitud1\n",
      "azimut1 = longitud1\n",
      "polar2 = np.pi/2-latitud2\n",
      "azimut2 = longitud2\n",
      "#radio de la tierra\n",
      "R = 6371"
     ],
     "language": "python",
     "metadata": {},
     "outputs": [],
     "prompt_number": 19
    },
    {
     "cell_type": "heading",
     "level": 2,
     "metadata": {},
     "source": [
      "Geod\u00e9sica usando la definici\u00f3n de producto punto y relaci\u00f3n \u00e1ngulo-arco-radio"
     ]
    },
    {
     "cell_type": "code",
     "collapsed": false,
     "input": [
      "#por la definicion de producto punto y la relaci\u00f3n \u00e1ngulo-arco-radio, se puede sacar el arco d entre ambos puntos\n",
      "d1 = R*np.arccos(np.sin(polar1)*np.sin(polar2)*(np.cos(azimut1)*np.cos(azimut2) + np.sin(azimut1)*np.sin(azimut2)) \n",
      "                 + np.cos(polar1)*np.cos(polar2))\n",
      "print d1"
     ],
     "language": "python",
     "metadata": {},
     "outputs": [
      {
       "output_type": "stream",
       "stream": "stdout",
       "text": [
        "18166.2987762\n"
       ]
      }
     ],
     "prompt_number": 25
    },
    {
     "cell_type": "heading",
     "level": 2,
     "metadata": {},
     "source": [
      "Geod\u00e9sica usando la funci\u00f3n harvesine"
     ]
    },
    {
     "cell_type": "code",
     "collapsed": false,
     "input": [
      "d2 = R*np.arccos((1-2*((np.sin((latitud2-latitud1)/2))**2 + \n",
      "             np.cos(latitud1)*np.cos(latitud2)*((np.sin((longitud2-longitud1)/2))**2))))\n",
      "print d2"
     ],
     "language": "python",
     "metadata": {},
     "outputs": [
      {
       "output_type": "stream",
       "stream": "stdout",
       "text": [
        "18166.2987762\n"
       ]
      }
     ],
     "prompt_number": 28
    },
    {
     "cell_type": "code",
     "collapsed": false,
     "input": [],
     "language": "python",
     "metadata": {},
     "outputs": []
    }
   ],
   "metadata": {}
  }
 ]
}